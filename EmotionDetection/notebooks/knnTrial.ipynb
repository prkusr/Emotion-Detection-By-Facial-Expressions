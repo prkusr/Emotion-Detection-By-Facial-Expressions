{
 "cells": [
  {
   "cell_type": "code",
   "execution_count": 39,
   "metadata": {
    "collapsed": true
   },
   "outputs": [],
   "source": [
    "import argparse\n",
    "import csv\n",
    "\n",
    "import cv2\n",
    "import dlib\n",
    "import numpy as np\n",
    "from imutils import face_utils\n",
    "from sklearn.metrics import accuracy_score,confusion_matrix\n",
    "from sklearn.neighbors import KNeighborsClassifier\n",
    "import matplotlib.pyplot as plt\n",
    "from sklearn.svm import SVC\n",
    "from sklearn.model_selection import GridSearchCV\n",
    "\n",
    "import numpy as np\n",
    "import math"
   ]
  },
  {
   "cell_type": "code",
   "execution_count": 14,
   "metadata": {
    "collapsed": false
   },
   "outputs": [],
   "source": [
    "predictor = dlib.shape_predictor('../../data/shape_predictor_68_face_landmarks.dat')\n",
    "y_features = [];\n",
    "x_features = [];\n",
    "f = open('../../data/train.csv', 'r');\n",
    "i = 0;\n",
    "reader = csv.DictReader(f);\n",
    "for row in reader:\n",
    "    y_features.append(int(row['Emotion']));\n",
    "    face = np.array([int(intensity) for intensity in row['Pixels'].split(' ')], np.uint8);\n",
    "    image = np.reshape(face, (48,48));            \n",
    "    shape = predictor(image, dlib.rectangle(top=0, left=0, bottom=48, right=48))\n",
    "    shape = face_utils.shape_to_np(shape)\n",
    "\n",
    "    height = dict();\n",
    "    width = dict();\n",
    "\n",
    "    # loop over the face parts individually\n",
    "    for (name, (i, j)) in face_utils.FACIAL_LANDMARKS_IDXS.items():\n",
    "        (x, y, w, h) = cv2.boundingRect(np.array([shape[i:j]]))                \n",
    "        width[name] = w;\n",
    "        height[name] = h;\n",
    "\n",
    "    #print width,'\\n', height;\n",
    "    x_features.append(np.array([width[mLEFT_EYEBROW], height[mLEFT_EYEBROW] , width[mRIGHT_EYEBROW], height[mRIGHT_EYEBROW], \n",
    "                                 width[mLEFT_EYE], height[mLEFT_EYE], width[mRIGHT_EYE], height[mRIGHT_EYE],\n",
    "                                 width[mMOUTH], height[mMOUTH]]));\n",
    "\n",
    "# print type(x_features)\n",
    "# print len(x_features[0])\n",
    "\n",
    "x_features = np.array(x_features);\n",
    "y_features = np.array(y_features);  \n",
    "\n",
    "\n",
    "shuff = np.arange(x_features.shape[0])\n",
    "\n",
    "n = len(shuff);\n",
    "trainingSamples = n*7/10;    \n",
    "\n",
    "np.random.shuffle(shuff)\n",
    "x_train = x_features[shuff[:trainingSamples],:]\n",
    "y_train = y_features[shuff[:trainingSamples]]\n",
    "\n",
    "x_valid = x_features[shuff[trainingSamples:],:]\n",
    "y_valid = y_features[shuff[trainingSamples:]]\n",
    "\n",
    "f.close()"
   ]
  },
  {
   "cell_type": "code",
   "execution_count": 15,
   "metadata": {
    "collapsed": false
   },
   "outputs": [],
   "source": [
    "mLEFT_EYE = 'left_eye'\n",
    "mLEFT_EYEBROW = 'left_eyebrow'\n",
    "mRIGHT_EYE = 'right_eye'\n",
    "mMOUTH = 'mouth'\n",
    "mRIGHT_EYEBROW = 'right_eyebrow'\n",
    "\n",
    "\n",
    "imageData = Images(\"../../data/train.csv\")\n",
    "\n"
   ]
  },
  {
   "cell_type": "code",
   "execution_count": null,
   "metadata": {
    "collapsed": false
   },
   "outputs": [],
   "source": []
  },
  {
   "cell_type": "code",
   "execution_count": 16,
   "metadata": {
    "collapsed": true
   },
   "outputs": [],
   "source": [
    "knn = KNeighborsClassifier(n_neighbors=5, weights='uniform', algorithm='auto', n_jobs=-1)\n",
    "knn.fit(x_train,y_train)\n",
    "prediction = knn.predict(x_valid)\n",
    "validationAccuracy = accuracy_score(y_valid,prediction)\n",
    "\n"
   ]
  },
  {
   "cell_type": "code",
   "execution_count": 21,
   "metadata": {
    "collapsed": false
   },
   "outputs": [
    {
     "name": "stdout",
     "output_type": "stream",
     "text": [
      "0.571770334928\n",
      "0.571770334928\n"
     ]
    }
   ],
   "source": [
    "print validationAccuracy\n",
    "print knn.score(x_valid,y_valid)#,prediction)\n"
   ]
  },
  {
   "cell_type": "code",
   "execution_count": 18,
   "metadata": {
    "collapsed": false
   },
   "outputs": [
    {
     "data": {
      "text/plain": [
       "1254"
      ]
     },
     "execution_count": 18,
     "metadata": {},
     "output_type": "execute_result"
    }
   ],
   "source": [
    "len(y_valid)"
   ]
  },
  {
   "cell_type": "code",
   "execution_count": 19,
   "metadata": {
    "collapsed": false
   },
   "outputs": [
    {
     "data": {
      "text/plain": [
       "1254"
      ]
     },
     "execution_count": 19,
     "metadata": {},
     "output_type": "execute_result"
    }
   ],
   "source": [
    "len(prediction)"
   ]
  },
  {
   "cell_type": "code",
   "execution_count": 28,
   "metadata": {
    "collapsed": false
   },
   "outputs": [],
   "source": [
    "acc = []\n",
    "for n in range(1,100):\n",
    "    knn = KNeighborsClassifier(n_neighbors=n, weights='uniform', algorithm='auto', n_jobs=-1)\n",
    "    knn.fit(x_train,y_train)\n",
    "    acc.append(knn.score(x_valid,y_valid))\n",
    "    \n",
    "#     prediction = knn.predict(x_valid)\n",
    "#     validationAccuracy = accuracy_score(y_valid,prediction)"
   ]
  },
  {
   "cell_type": "code",
   "execution_count": 32,
   "metadata": {
    "collapsed": false
   },
   "outputs": [
    {
     "data": {
      "image/png": "[encoded data removed]",
      "text/plain": [
       "<matplotlib.figure.Figure at 0x7fba3101f6d0>"
      ]
     },
     "metadata": {},
     "output_type": "display_data"
    }
   ],
   "source": [
    "plt.plot(range(1,100),acc)\n",
    "# plt.xlabel('NUmber of nearest neighbours')\n",
    "# plt.ylabel('Accuracy')\n",
    "# plt.title('Training examples vs accuracy')\n",
    "# plt.legend()\n",
    "# plt.savefig('kVsAccurracyNewLegend.pdf')\n",
    "plt.show()\n"
   ]
  },
  {
   "cell_type": "code",
   "execution_count": 34,
   "metadata": {
    "collapsed": false
   },
   "outputs": [
    {
     "data": {
      "text/plain": [
       "(array([41, 47]),)"
      ]
     },
     "execution_count": 34,
     "metadata": {},
     "output_type": "execute_result"
    }
   ],
   "source": [
    "acc = np.array(acc)\n",
    "np.where(acc==acc.max())"
   ]
  },
  {
   "cell_type": "code",
   "execution_count": 44,
   "metadata": {
    "collapsed": false
   },
   "outputs": [
    {
     "name": "stdout",
     "output_type": "stream",
     "text": [
      "23.0\n"
     ]
    }
   ],
   "source": [
    "fgh = np.zeros(5)\n",
    "fgh[2] = 23\n",
    "print fgh[2]"
   ]
  },
  {
   "cell_type": "code",
   "execution_count": 54,
   "metadata": {
    "collapsed": false
   },
   "outputs": [
    {
     "data": {
      "text/plain": [
       "74"
      ]
     },
     "execution_count": 54,
     "metadata": {},
     "output_type": "execute_result"
    }
   ],
   "source": [
    "clf.cv_results_['params'][72]['n_neighbors']"
   ]
  },
  {
   "cell_type": "code",
   "execution_count": 58,
   "metadata": {
    "collapsed": false
   },
   "outputs": [
    {
     "name": "stdout",
     "output_type": "stream",
     "text": [
      "Best parameters :\n",
      "()\n",
      "{'n_neighbors': 41}\n",
      "()\n",
      "Grid scores:\n",
      "()\n",
      "()\n"
     ]
    }
   ],
   "source": [
    "tunedAccuracy = np.zeros(50)\n",
    "tuned_parameters = {'n_neighbors': range(2,50)}\n",
    "\n",
    "clf = GridSearchCV(KNeighborsClassifier(), tuned_parameters, cv=5)\n",
    "\n",
    "clf.fit(x_train, y_train);\n",
    "\n",
    "print(\"Best parameters :\")\n",
    "print()\n",
    "print(clf.best_params_)\n",
    "print()\n",
    "print(\"Grid scores:\")\n",
    "print()\n",
    "means = clf.cv_results_['mean_test_score']\n",
    "stds = clf.cv_results_['std_test_score']\n",
    "i = 2\n",
    "for mean, std, params in zip(means, stds, clf.cv_results_['params']):\n",
    "    tunedAccuracy[i] = mean\n",
    "    i += 1\n",
    "    #     print(\"%0.3f (+/-%0.03f) for %r\" % (mean, std * 2, params))\n",
    "print()        "
   ]
  },
  {
   "cell_type": "code",
   "execution_count": null,
   "metadata": {
    "collapsed": true
   },
   "outputs": [],
   "source": [
    "np.random.shuffle(shuff)\n",
    "x_train = x_features[shuff[:trainingSamples],:]\n",
    "y_train = y_features[shuff[:trainingSamples]]\n",
    "\n",
    "x_valid = x_features[shuff[trainingSamples:],:]\n",
    "y_valid = y_features[shuff[trainingSamples:]]"
   ]
  },
  {
   "cell_type": "code",
   "execution_count": 72,
   "metadata": {
    "collapsed": false
   },
   "outputs": [
    {
     "data": {
      "text/plain": [
       "60.531354715174722"
      ]
     },
     "execution_count": 72,
     "metadata": {},
     "output_type": "execute_result"
    }
   ],
   "source": [
    "tunedAccuracy[43]\n"
   ]
  },
  {
   "cell_type": "code",
   "execution_count": 67,
   "metadata": {
    "collapsed": false
   },
   "outputs": [
    {
     "data": {
      "text/plain": [
       "array([ 45.83532791,  52.05840115,  54.35615127,  55.36141695,\n",
       "        55.86404978,  56.91718526,  56.82144567,  57.92245093,\n",
       "        58.42508377,  58.90378171,  58.71230254,  58.56869315,\n",
       "        59.16706558,  59.43034945,  59.59789373,  59.64576352,\n",
       "        59.8372427 ,  59.95691719,  60.07659167,  59.95691719,\n",
       "        60.10052657,  60.14839636,  60.38774533,  60.14839636,\n",
       "        60.6749641 ,  60.41168023,  60.38774533,  60.07659167,\n",
       "        60.48348492,  60.45955002,  60.36381044,  60.41168023,\n",
       "        60.6270943 ,  60.60315941,  60.69889899,  60.41168023,\n",
       "        60.29200574,  60.02872188,  60.41168023,  60.77070369,\n",
       "        60.41168023,  60.69889899,  60.60315941,  60.53135472,\n",
       "        60.48348492,  60.36381044,  60.24413595,  60.10052657])"
      ]
     },
     "execution_count": 67,
     "metadata": {},
     "output_type": "execute_result"
    }
   ],
   "source": [
    "tunedAccuracy[0]"
   ]
  },
  {
   "cell_type": "code",
   "execution_count": 73,
   "metadata": {
    "collapsed": false
   },
   "outputs": [
    {
     "data": {
      "image/png": "[encoded data removed]",
      "text/plain": [
       "<matplotlib.figure.Figure at 0x7fba3089e390>"
      ]
     },
     "metadata": {},
     "output_type": "display_data"
    }
   ],
   "source": [
    "%matplotlib inline\n",
    "plt.plot(range(len(tunedAccuracy)),tunedAccuracy)\n",
    "plt.xlabel('Number of nearest neighbours')\n",
    "plt.ylabel('Accuracy')\n",
    "plt.title('Number of neighbhors vs accuracy')\n",
    "plt.savefig('knn.jpg')"
   ]
  },
  {
   "cell_type": "code",
   "execution_count": null,
   "metadata": {
    "collapsed": true
   },
   "outputs": [],
   "source": []
  }
 ],
 "metadata": {
  "kernelspec": {
   "display_name": "Python 2",
   "language": "python",
   "name": "python2"
  },
  "language_info": {
   "codemirror_mode": {
    "name": "ipython",
    "version": 2
   },
   "file_extension": ".py",
   "mimetype": "text/x-python",
   "name": "python",
   "nbconvert_exporter": "python",
   "pygments_lexer": "ipython2",
   "version": "2.7.12"
  }
 },
 "nbformat": 4,
 "nbformat_minor": 2
}
