{
 "cells": [
  {
   "cell_type": "code",
   "execution_count": 27,
   "metadata": {
    "collapsed": true
   },
   "outputs": [],
   "source": [
    "import argparse\n",
    "import csv\n",
    "\n",
    "import cv2\n",
    "import dlib\n",
    "import numpy as np\n",
    "from imutils import face_utils\n",
    "from sklearn.metrics import accuracy_score,confusion_matrix\n",
    "from sklearn.neighbors import KNeighborsClassifier\n",
    "import matplotlib.pyplot as plt\n",
    "\n",
    "import numpy as np\n",
    "import math"
   ]
  },
  {
   "cell_type": "code",
   "execution_count": 14,
   "metadata": {
    "collapsed": false
   },
   "outputs": [],
   "source": [
    "predictor = dlib.shape_predictor('../../data/shape_predictor_68_face_landmarks.dat')\n",
    "y_features = [];\n",
    "x_features = [];\n",
    "f = open('../../data/train.csv', 'r');\n",
    "i = 0;\n",
    "reader = csv.DictReader(f);\n",
    "for row in reader:\n",
    "    y_features.append(int(row['Emotion']));\n",
    "    face = np.array([int(intensity) for intensity in row['Pixels'].split(' ')], np.uint8);\n",
    "    image = np.reshape(face, (48,48));            \n",
    "    shape = predictor(image, dlib.rectangle(top=0, left=0, bottom=48, right=48))\n",
    "    shape = face_utils.shape_to_np(shape)\n",
    "\n",
    "    height = dict();\n",
    "    width = dict();\n",
    "\n",
    "    # loop over the face parts individually\n",
    "    for (name, (i, j)) in face_utils.FACIAL_LANDMARKS_IDXS.items():\n",
    "        (x, y, w, h) = cv2.boundingRect(np.array([shape[i:j]]))                \n",
    "        width[name] = w;\n",
    "        height[name] = h;\n",
    "\n",
    "    #print width,'\\n', height;\n",
    "    x_features.append(np.array([width[mLEFT_EYEBROW], height[mLEFT_EYEBROW] , width[mRIGHT_EYEBROW], height[mRIGHT_EYEBROW], \n",
    "                                 width[mLEFT_EYE], height[mLEFT_EYE], width[mRIGHT_EYE], height[mRIGHT_EYE],\n",
    "                                 width[mMOUTH], height[mMOUTH]]));\n",
    "\n",
    "# print type(x_features)\n",
    "# print len(x_features[0])\n",
    "\n",
    "x_features = np.array(x_features);\n",
    "y_features = np.array(y_features);  \n",
    "\n",
    "\n",
    "shuff = np.arange(x_features.shape[0])\n",
    "\n",
    "n = len(shuff);\n",
    "trainingSamples = n*7/10;    \n",
    "\n",
    "np.random.shuffle(shuff)\n",
    "x_train = x_features[shuff[:trainingSamples],:]\n",
    "y_train = y_features[shuff[:trainingSamples]]\n",
    "\n",
    "x_valid = x_features[shuff[trainingSamples:],:]\n",
    "y_valid = y_features[shuff[trainingSamples:]]\n",
    "\n",
    "f.close()"
   ]
  },
  {
   "cell_type": "code",
   "execution_count": 15,
   "metadata": {
    "collapsed": false
   },
   "outputs": [],
   "source": [
    "mLEFT_EYE = 'left_eye'\n",
    "mLEFT_EYEBROW = 'left_eyebrow'\n",
    "mRIGHT_EYE = 'right_eye'\n",
    "mMOUTH = 'mouth'\n",
    "mRIGHT_EYEBROW = 'right_eyebrow'\n",
    "\n",
    "\n",
    "imageData = Images(\"../../data/train.csv\")\n",
    "\n"
   ]
  },
  {
   "cell_type": "code",
   "execution_count": null,
   "metadata": {
    "collapsed": false
   },
   "outputs": [],
   "source": []
  },
  {
   "cell_type": "code",
   "execution_count": 16,
   "metadata": {
    "collapsed": true
   },
   "outputs": [],
   "source": [
    "knn = KNeighborsClassifier(n_neighbors=5, weights='uniform', algorithm='auto', n_jobs=-1)\n",
    "knn.fit(x_train,y_train)\n",
    "prediction = knn.predict(x_valid)\n",
    "validationAccuracy = accuracy_score(y_valid,prediction)\n",
    "\n"
   ]
  },
  {
   "cell_type": "code",
   "execution_count": 21,
   "metadata": {
    "collapsed": false
   },
   "outputs": [
    {
     "name": "stdout",
     "output_type": "stream",
     "text": [
      "0.571770334928\n",
      "0.571770334928\n"
     ]
    }
   ],
   "source": [
    "print validationAccuracy\n",
    "print knn.score(x_valid,y_valid)#,prediction)\n"
   ]
  },
  {
   "cell_type": "code",
   "execution_count": 18,
   "metadata": {
    "collapsed": false
   },
   "outputs": [
    {
     "data": {
      "text/plain": [
       "1254"
      ]
     },
     "execution_count": 18,
     "metadata": {},
     "output_type": "execute_result"
    }
   ],
   "source": [
    "len(y_valid)"
   ]
  },
  {
   "cell_type": "code",
   "execution_count": 19,
   "metadata": {
    "collapsed": false
   },
   "outputs": [
    {
     "data": {
      "text/plain": [
       "1254"
      ]
     },
     "execution_count": 19,
     "metadata": {},
     "output_type": "execute_result"
    }
   ],
   "source": [
    "len(prediction)"
   ]
  },
  {
   "cell_type": "code",
   "execution_count": 28,
   "metadata": {
    "collapsed": false
   },
   "outputs": [],
   "source": [
    "acc = []\n",
    "for n in range(1,100):\n",
    "    knn = KNeighborsClassifier(n_neighbors=n, weights='uniform', algorithm='auto', n_jobs=-1)\n",
    "    knn.fit(x_train,y_train)\n",
    "    acc.append(knn.score(x_valid,y_valid))\n",
    "    \n",
    "#     prediction = knn.predict(x_valid)\n",
    "#     validationAccuracy = accuracy_score(y_valid,prediction)"
   ]
  },
  {
   "cell_type": "code",
   "execution_count": 32,
   "metadata": {
    "collapsed": false
   },
   "outputs": [
    {
     "data": {
      "image/png": "[encoded data removed]",
      "text/plain": [
       "<matplotlib.figure.Figure at 0x7fba3101f6d0>"
      ]
     },
     "metadata": {},
     "output_type": "display_data"
    }
   ],
   "source": [
    "plt.plot(range(1,100),acc)\n",
    "# plt.xlabel('NUmber of nearest neighbours')\n",
    "# plt.ylabel('Accuracy')\n",
    "# plt.title('Training examples vs accuracy')\n",
    "# plt.legend()\n",
    "# plt.savefig('kVsAccurracyNewLegend.pdf')\n",
    "plt.show()\n"
   ]
  },
  {
   "cell_type": "code",
   "execution_count": null,
   "metadata": {
    "collapsed": false
   },
   "outputs": [],
   "source": []
  },
  {
   "cell_type": "code",
   "execution_count": null,
   "metadata": {
    "collapsed": true
   },
   "outputs": [],
   "source": []
  }
 ],
 "metadata": {
  "kernelspec": {
   "display_name": "Python 2",
   "language": "python",
   "name": "python2"
  },
  "language_info": {
   "codemirror_mode": {
    "name": "ipython",
    "version": 2
   },
   "file_extension": ".py",
   "mimetype": "text/x-python",
   "name": "python",
   "nbconvert_exporter": "python",
   "pygments_lexer": "ipython2",
   "version": "2.7.12"
  }
 },
 "nbformat": 4,
 "nbformat_minor": 2
}
