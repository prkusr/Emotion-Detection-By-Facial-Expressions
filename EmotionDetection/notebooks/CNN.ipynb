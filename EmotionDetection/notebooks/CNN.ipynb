{
 "cells": [
  {
   "cell_type": "code",
   "execution_count": 92,
   "metadata": {
    "collapsed": false
   },
   "outputs": [],
   "source": [
    "from keras.utils.np_utils import to_categorical\n",
    "import pandas as p\n",
    "import numpy as np\n",
    "import random"
   ]
  },
  {
   "cell_type": "code",
   "execution_count": 3,
   "metadata": {
    "collapsed": false
   },
   "outputs": [],
   "source": [
    "emotionMap = {'Angry': 0, 'Disgust': 1, 'Fear': 2, 'Happy': 3, 'Sad': 4, 'Surprise': 5, 'Neutral': 6}\n",
    "emotions = ['Angry','Disgust','Fear','Happy','Sad','Surprise','Neutral']"
   ]
  },
  {
   "cell_type": "code",
   "execution_count": 20,
   "metadata": {
    "collapsed": true
   },
   "outputs": [],
   "source": [
    "filepath='../../data/train.csv'\n",
    "dataSplit = 0.4"
   ]
  },
  {
   "cell_type": "code",
   "execution_count": 108,
   "metadata": {
    "collapsed": false
   },
   "outputs": [],
   "source": [
    "csvData = p.read_csv(filepath)\n",
    "\n",
    "# x,y = loadImageData(dataSplit,filepath=filepath)"
   ]
  },
  {
   "cell_type": "code",
   "execution_count": 94,
   "metadata": {
    "collapsed": false
   },
   "outputs": [],
   "source": [
    "def reconstruct(pixels, size=(48,48)):\n",
    "    pixelArray = np.array(map(int, pixels.split()))\n",
    "    return pixelArray.reshape(size)\n",
    "\n",
    "def loadImageData(split=0.4,filepath='../../data/train.csv'):\n",
    "    csvData = p.read_csv(filepath)\n",
    "    \n",
    "    #Emotion,Pixels\n",
    "    emoClasses = []\n",
    "    for i in range(len(emotions)):\n",
    "        classEmoData = csvData[csvData['Emotion'] == i ]\n",
    "        emoClasses.append(classEmoData)    \n",
    "    organisedData = p.concat(emoClasses,axis=0)\n",
    "    \n",
    "    rows = random.sample(organisedData.index, int(len(organisedData)*dataSplit))\n",
    "    organisedData = organisedData.ix[rows]\n",
    "    \n",
    "    organisedData['Pixels'] = organisedData.Pixels.apply(lambda x: reconstruct(x))\n",
    "    \n",
    "    x = np.array([m for m in organisedData.Pixels]) # (n_samples, img_width, img_height)\n",
    "    x_train = x.reshape(-1, 1, x.shape[1], x.shape[2])\n",
    "    y_train = organisedData.Emotion\n",
    "    return x_train,y_train"
   ]
  },
  {
   "cell_type": "code",
   "execution_count": 99,
   "metadata": {
    "collapsed": false
   },
   "outputs": [],
   "source": [
    "np.save('../../data/xTrain',x)\n",
    "np.save('../../data/yTrain',y)"
   ]
  },
  {
   "cell_type": "code",
   "execution_count": 109,
   "metadata": {
    "collapsed": false
   },
   "outputs": [],
   "source": [
    "emoClasses = []\n",
    "for i in range(len(emotions)):\n",
    "    classEmoData = csvData[csvData['Emotion'] == i ]\n",
    "    emoClasses.append(classEmoData)    \n",
    "organisedData = p.concat(emoClasses,axis=0)"
   ]
  },
  {
   "cell_type": "code",
   "execution_count": 110,
   "metadata": {
    "collapsed": true
   },
   "outputs": [],
   "source": [
    "organisedData['Pixels'] = organisedData.Pixels.apply(lambda x: reconstruct(x))"
   ]
  },
  {
   "cell_type": "code",
   "execution_count": 112,
   "metadata": {
    "collapsed": false
   },
   "outputs": [
    {
     "data": {
      "text/plain": [
       "(4178,)"
      ]
     },
     "execution_count": 112,
     "metadata": {},
     "output_type": "execute_result"
    }
   ],
   "source": []
  },
  {
   "cell_type": "code",
   "execution_count": null,
   "metadata": {
    "collapsed": true
   },
   "outputs": [],
   "source": []
  },
  {
   "cell_type": "code",
   "execution_count": 104,
   "metadata": {
    "collapsed": false
   },
   "outputs": [],
   "source": [
    "from __future__ import print_function\n",
    "import keras\n",
    "from keras.datasets import cifar10\n",
    "from keras.preprocessing.image import ImageDataGenerator\n",
    "from keras.models import Sequential\n",
    "from keras.layers import Dense, Dropout, Activation, Flatten\n",
    "from keras.layers import Conv2D, MaxPooling2D\n"
   ]
  },
  {
   "cell_type": "code",
   "execution_count": 44,
   "metadata": {
    "collapsed": false
   },
   "outputs": [],
   "source": [
    "def emotion_count(y_train, classes, verbose=True):\n",
    "    emo_classcount = {}\n",
    "#     print 'Disgust classified as Angry'\n",
    "#     y_train.loc[y_train == 1] = 0\n",
    "#     classes.remove('Disgust')\n",
    "    for new_num, _class in enumerate(classes):\n",
    "        y_train.loc[(y_train == emotion[_class])] = new_num\n",
    "        class_count = sum(y_train == (new_num))\n",
    "        if verbose:\n",
    "            print '{}: {} with {} samples'.format(new_num, _class, class_count)\n",
    "        emo_classcount[_class] = (new_num, class_count)\n"
   ]
  },
  {
   "cell_type": "code",
   "execution_count": 100,
   "metadata": {
    "collapsed": false
   },
   "outputs": [],
   "source": [
    "from keras.datasets import cifar10"
   ]
  },
  {
   "cell_type": "code",
   "execution_count": 101,
   "metadata": {
    "collapsed": false
   },
   "outputs": [
    {
     "name": "stdout",
     "output_type": "stream",
     "text": [
      "Downloading data from http://www.cs.toronto.edu/~kriz/cifar-10-python.tar.gz\n"
     ]
    }
   ],
   "source": [
    "(x_train, y_train), (x_test, y_test) = cifar10.load_data()"
   ]
  },
  {
   "cell_type": "code",
   "execution_count": 106,
   "metadata": {
    "collapsed": false
   },
   "outputs": [
    {
     "data": {
      "text/plain": [
       "(32, 32, 3)"
      ]
     },
     "execution_count": 106,
     "metadata": {},
     "output_type": "execute_result"
    }
   ],
   "source": [
    "x_train.shape[1:]"
   ]
  },
  {
   "cell_type": "code",
   "execution_count": 107,
   "metadata": {
    "collapsed": false
   },
   "outputs": [
    {
     "data": {
      "text/plain": [
       "(50000, 1)"
      ]
     },
     "execution_count": 107,
     "metadata": {},
     "output_type": "execute_result"
    }
   ],
   "source": [
    "y_train.shape"
   ]
  },
  {
   "cell_type": "code",
   "execution_count": 105,
   "metadata": {
    "collapsed": false
   },
   "outputs": [],
   "source": [
    "model = Sequential()\n",
    "\n",
    "model.add(Conv2D(32, (3, 3), padding='same',\n",
    "                 input_shape=x_train.shape[1:]))\n",
    "model.add(Activation('relu'))\n",
    "model.add(Conv2D(32, (3, 3)))\n",
    "model.add(Activation('relu'))\n",
    "model.add(MaxPooling2D(pool_size=(2, 2)))\n",
    "model.add(Dropout(0.25))\n"
   ]
  },
  {
   "cell_type": "code",
   "execution_count": 128,
   "metadata": {
    "collapsed": false
   },
   "outputs": [
    {
     "data": {
      "text/plain": [
       "23       True\n",
       "34       True\n",
       "42       True\n",
       "54       True\n",
       "65       True\n",
       "74       True\n",
       "76       True\n",
       "91       True\n",
       "95       True\n",
       "101      True\n",
       "105      True\n",
       "108      True\n",
       "115      True\n",
       "121      True\n",
       "125      True\n",
       "152      True\n",
       "153      True\n",
       "154      True\n",
       "196      True\n",
       "207      True\n",
       "210      True\n",
       "214      True\n",
       "226      True\n",
       "264      True\n",
       "266      True\n",
       "290      True\n",
       "294      True\n",
       "295      True\n",
       "298      True\n",
       "303      True\n",
       "        ...  \n",
       "4077    False\n",
       "4080    False\n",
       "4084    False\n",
       "4087    False\n",
       "4090    False\n",
       "4091    False\n",
       "4097    False\n",
       "4101    False\n",
       "4103    False\n",
       "4104    False\n",
       "4106    False\n",
       "4111    False\n",
       "4117    False\n",
       "4119    False\n",
       "4124    False\n",
       "4131    False\n",
       "4136    False\n",
       "4138    False\n",
       "4140    False\n",
       "4143    False\n",
       "4146    False\n",
       "4147    False\n",
       "4156    False\n",
       "4158    False\n",
       "4159    False\n",
       "4162    False\n",
       "4164    False\n",
       "4167    False\n",
       "4172    False\n",
       "4174    False\n",
       "Name: Emotion, dtype: bool"
      ]
     },
     "execution_count": 128,
     "metadata": {},
     "output_type": "execute_result"
    }
   ],
   "source": [
    "y_train.loc[(y_train == emotionMap[\"Angry\"])] = "
   ]
  },
  {
   "cell_type": "code",
   "execution_count": 127,
   "metadata": {
    "collapsed": false
   },
   "outputs": [
    {
     "data": {
      "text/plain": [
       "(437,)"
      ]
     },
     "execution_count": 127,
     "metadata": {},
     "output_type": "execute_result"
    }
   ],
   "source": [
    "y_train.loc[(y_train == emotionMap[\"Angry\"])].values.shape"
   ]
  },
  {
   "cell_type": "code",
   "execution_count": 135,
   "metadata": {
    "collapsed": false
   },
   "outputs": [],
   "source": [
    "for i, _class in enumerate(emotions):\n",
    "        y_train.loc[(y_train == emotionMap[_class])] = i"
   ]
  },
  {
   "cell_type": "code",
   "execution_count": 134,
   "metadata": {
    "collapsed": false
   },
   "outputs": [],
   "source": [
    "y_train = organisedData.Emotion"
   ]
  },
  {
   "cell_type": "code",
   "execution_count": 136,
   "metadata": {
    "collapsed": true
   },
   "outputs": [],
   "source": [
    "y_train = to_categorical(y_train.values)"
   ]
  },
  {
   "cell_type": "code",
   "execution_count": 137,
   "metadata": {
    "collapsed": false
   },
   "outputs": [
    {
     "data": {
      "text/plain": [
       "(4178, 7)"
      ]
     },
     "execution_count": 137,
     "metadata": {},
     "output_type": "execute_result"
    }
   ],
   "source": [
    "y_train.shape"
   ]
  },
  {
   "cell_type": "code",
   "execution_count": null,
   "metadata": {
    "collapsed": true
   },
   "outputs": [],
   "source": []
  }
 ],
 "metadata": {
  "kernelspec": {
   "display_name": "Python 2",
   "language": "python",
   "name": "python2"
  },
  "language_info": {
   "codemirror_mode": {
    "name": "ipython",
    "version": 2
   },
   "file_extension": ".py",
   "mimetype": "text/x-python",
   "name": "python",
   "nbconvert_exporter": "python",
   "pygments_lexer": "ipython2",
   "version": "2.7.12"
  }
 },
 "nbformat": 4,
 "nbformat_minor": 2
}
