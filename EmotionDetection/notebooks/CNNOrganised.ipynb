{
 "cells": [
  {
   "cell_type": "code",
   "execution_count": 1,
   "metadata": {
    "collapsed": false
   },
   "outputs": [
    {
     "name": "stderr",
     "output_type": "stream",
     "text": [
      "Using TensorFlow backend.\n"
     ]
    }
   ],
   "source": [
    "from keras.utils.np_utils import to_categorical\n",
    "import pandas as p\n",
    "import numpy as np\n",
    "import random"
   ]
  },
  {
   "cell_type": "code",
   "execution_count": 2,
   "metadata": {
    "collapsed": true
   },
   "outputs": [],
   "source": [
    "filepath='../../data/train.csv'\n",
    "dataSplit = 0.4 # 60 - 40 split\n",
    "emotions = ['Angry','Disgust','Fear','Happy','Sad','Surprise','Neutral']"
   ]
  },
  {
   "cell_type": "code",
   "execution_count": 3,
   "metadata": {
    "collapsed": true
   },
   "outputs": [],
   "source": [
    "def reconstruct(pixels, size=(48,48)):\n",
    "    pixelArray = np.array(map(int, pixels.split()))\n",
    "    return pixelArray.reshape(size)\n",
    "\n",
    "def loadImageData(split=0.4,filepath='../../data/train.csv'):\n",
    "    csvData = p.read_csv(filepath)\n",
    "    \n",
    "    #Emotion,Pixels\n",
    "    emoClasses = []\n",
    "    for i in range(len(emotions)):\n",
    "        classEmoData = csvData[csvData['Emotion'] == i ]\n",
    "        emoClasses.append(classEmoData)    \n",
    "    organisedData = p.concat(emoClasses,axis=0)\n",
    "    \n",
    "    rows = random.sample(organisedData.index, int(len(organisedData)*dataSplit))\n",
    "    organisedData = organisedData.ix[rows]\n",
    "    \n",
    "    organisedData['Pixels'] = organisedData.Pixels.apply(lambda x: reconstruct(x))\n",
    "    \n",
    "    x = np.array([m for m in organisedData.Pixels]) # (n_samples, img_width, img_height)\n",
    "    x_train = x.reshape(-1, 1, x.shape[1], x.shape[2])\n",
    "    y_train = to_categorical(organisedData.Emotion.values)\n",
    "    return x_train,y_train"
   ]
  },
  {
   "cell_type": "code",
   "execution_count": 4,
   "metadata": {
    "collapsed": true
   },
   "outputs": [],
   "source": [
    "x,y = loadImageData(dataSplit,filepath=filepath)"
   ]
  },
  {
   "cell_type": "code",
   "execution_count": 5,
   "metadata": {
    "collapsed": true
   },
   "outputs": [],
   "source": [
    "np.save('../../data/xTrain',x)\n",
    "np.save('../../data/yTrain',y)"
   ]
  },
  {
   "cell_type": "code",
   "execution_count": null,
   "metadata": {
    "collapsed": true
   },
   "outputs": [],
   "source": []
  }
 ],
 "metadata": {
  "kernelspec": {
   "display_name": "Python 2",
   "language": "python",
   "name": "python2"
  },
  "language_info": {
   "codemirror_mode": {
    "name": "ipython",
    "version": 2
   },
   "file_extension": ".py",
   "mimetype": "text/x-python",
   "name": "python",
   "nbconvert_exporter": "python",
   "pygments_lexer": "ipython2",
   "version": "2.7.12"
  }
 },
 "nbformat": 4,
 "nbformat_minor": 2
}
