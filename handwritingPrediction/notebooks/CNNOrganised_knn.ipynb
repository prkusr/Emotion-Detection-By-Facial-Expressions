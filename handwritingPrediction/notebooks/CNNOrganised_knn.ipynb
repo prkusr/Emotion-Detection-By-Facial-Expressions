{
 "cells": [
  {
   "cell_type": "code",
   "execution_count": 9,
   "metadata": {
    "collapsed": false,
    "scrolled": true
   },
   "outputs": [],
   "source": [
    "from keras.utils.np_utils import to_categorical\n",
    "import pandas as p\n",
    "import numpy as np\n",
    "import random\n",
    "import cv2\n",
    "import csv\n"
   ]
  },
  {
   "cell_type": "code",
   "execution_count": 10,
   "metadata": {
    "collapsed": true
   },
   "outputs": [],
   "source": [
    "class Numbers:\n",
    "    \"\"\"\n",
    "    Class to store MNIST data\n",
    "    \"\"\"\n",
    "\n",
    "    def __init__(self, location1,location2):\n",
    "        # You shouldn't have to modify this class, but you can if\n",
    "        # you'd like.\n",
    "\n",
    "\n",
    "        # Load the dataset\n",
    "        f = open(location1, 'rb')\n",
    "        self.train_x = []\n",
    "        self.test_x = []\n",
    "        spamreader = csv.reader(f, delimiter=',', quotechar='|') \n",
    "        count = 0\n",
    "        \n",
    "        for row in spamreader:\n",
    "                #print row\n",
    "                if count == 0 :\n",
    "                    count += 1\n",
    "                    continue\n",
    "                if count <= 200*4:\n",
    "                    self.train_x.append([ float(x) for x in row[4:]])\n",
    "                else:\n",
    "                    self.test_x.append([ float(x) for x in row[4:]])\n",
    "                    if count == 250*4 :\n",
    "                        break\n",
    "               \n",
    "                count += 1\n",
    "                \n",
    "        \n",
    "        f.close()\n",
    "        \n",
    "        #print len(self.test_x[0])\n",
    "        f = open(location2, 'rb')\n",
    "        self.train_y = []\n",
    "        self.test_y = []\n",
    "        spamreader = csv.reader(f, delimiter=',', quotechar='|') \n",
    "        count = 0\n",
    "        for row in spamreader:\n",
    "                #print row\n",
    "                if count == 0 :\n",
    "                    count += 1\n",
    "                    continue\n",
    "                if count <= 200:\n",
    "                    for i in range(4):\n",
    "                        self.train_y.append(int(row[1]))\n",
    "                else:\n",
    "                    for i in range(4):\n",
    "                        self.test_y.append(int(row[1]))\n",
    "                    if count == 250 :\n",
    "                        break\n",
    "               \n",
    "                count += 1\n",
    "        #print self.test_y[196:]\n",
    "        #self.train_x, self.train_y = train_set\n",
    "        #self.test_x, self.test_y = valid_set\n",
    "        #print self.train_x,valid_set\n",
    "        f.close()\n",
    "\n"
   ]
  },
  {
   "cell_type": "code",
   "execution_count": 11,
   "metadata": {
    "collapsed": false
   },
   "outputs": [],
   "source": [
    "data = Numbers(\"../train.csv\",\"../train_answers.csv\")\n",
    "x = data.train_x\n",
    "y = data.train_y"
   ]
  },
  {
   "cell_type": "code",
   "execution_count": null,
   "metadata": {
    "collapsed": false
   },
   "outputs": [],
   "source": []
  },
  {
   "cell_type": "code",
   "execution_count": 12,
   "metadata": {
    "collapsed": true
   },
   "outputs": [],
   "source": [
    "np.save('../images/xTrain',x)\n",
    "np.save('../images/yTrain',y)"
   ]
  },
  {
   "cell_type": "code",
   "execution_count": null,
   "metadata": {
    "collapsed": true
   },
   "outputs": [],
   "source": []
  }
 ],
 "metadata": {
  "kernelspec": {
   "display_name": "Python 2",
   "language": "python",
   "name": "python2"
  },
  "language_info": {
   "codemirror_mode": {
    "name": "ipython",
    "version": 2
   },
   "file_extension": ".py",
   "mimetype": "text/x-python",
   "name": "python",
   "nbconvert_exporter": "python",
   "pygments_lexer": "ipython2",
   "version": "2.7.12"
  }
 },
 "nbformat": 4,
 "nbformat_minor": 2
}
